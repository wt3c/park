{
 "cells": [
  {
   "cell_type": "markdown",
   "metadata": {
    "collapsed": true
   },
   "source": [
    "# Iteradores e Geradores"
   ]
  },
  {
   "cell_type": "markdown",
   "metadata": {},
   "source": [
    "Consumir um manualmente um iteravél sem for"
   ]
  },
  {
   "cell_type": "code",
   "execution_count": 3,
   "metadata": {},
   "outputs": [
    {
     "name": "stdout",
     "output_type": "stream",
     "text": [
      "avahi:x:467:467:User for Avahi:/run/avahi-daemon:/bin/false\n",
      "bin:x:1:1:bin:/bin:/sbin/nologin\n",
      "chrony:x:475:476:Chrony Daemon:/var/lib/chrony:/bin/false\n",
      "colord:x:469:469:user for colord:/var/lib/colord:/sbin/nologin\n",
      "daemon:x:2:2:Daemon:/sbin:/sbin/nologin\n",
      "dnsmasq:x:494:65533:dnsmasq:/var/lib/empty:/bin/false\n",
      "gdm:x:463:463:Gnome Display Manager daemon:/var/lib/gdm:/bin/false\n",
      "lightdm:x:462:462:LightDM daemon:/var/lib/lightdm:/bin/false\n",
      "lp:x:496:486:Printing daemon:/var/spool/lpd:/sbin/nologin\n",
      "mail:x:497:497:Mailer daemon:/var/spool/clientmqueue:/sbin/nologin\n",
      "man:x:13:62:Manual pages viewer:/var/lib/empty:/sbin/nologin\n",
      "messagebus:x:499:499:User for D-Bus:/run/dbus:/usr/bin/false\n",
      "nm-openconnect:x:465:465:NetworkManager user for OpenConnect:/var/lib/nm-openconnect:/sbin/nologin\n",
      "nm-openvpn:x:466:466:NetworkManager user for OpenVPN:/var/lib/openvpn:/sbin/nologin\n",
      "nobody:x:65534:65534:nobody:/var/lib/nobody:/bin/bash\n",
      "nscd:x:478:478:User for nscd:/run/nscd:/sbin/nologin\n",
      "polkitd:x:477:477:User for polkitd:/var/lib/polkit:/sbin/nologin\n",
      "postfix:x:51:51:Postfix Daemon:/var/spool/postfix:/bin/false\n",
      "pulse:x:472:472:PulseAudio daemon:/var/lib/pulseaudio:/sbin/nologin\n",
      "root:x:0:0:root:/root:/bin/bash\n",
      "rpc:x:476:65534:user for rpcbind:/var/lib/empty:/sbin/nologin\n",
      "rtkit:x:474:475:RealtimeKit:/proc:/bin/false\n",
      "scard:x:471:470:Smart Card Reader:/var/run/pcscd:/usr/sbin/nologin\n",
      "srvGeoClue:x:498:498:User for GeoClue D-Bus service:/var/lib/srvGeoClue:/sbin/nologin\n",
      "sshd:x:473:473:SSH daemon:/var/lib/sshd:/bin/false\n",
      "statd:x:468:65533:NFS statd daemon:/var/lib/nfs:/sbin/nologin\n",
      "systemd-coredump:x:480:480:systemd Core Dumper:/:/sbin/nologin\n",
      "systemd-network:x:479:479:systemd Network Management:/:/sbin/nologin\n",
      "systemd-timesync:x:481:481:systemd Time Synchronization:/:/sbin/nologin\n",
      "tftp:x:495:483:TFTP account:/srv/tftpboot:/bin/false\n",
      "usbmux:x:470:65533:usbmuxd daemon:/var/lib/usbmuxd:/sbin/nologin\n",
      "vnc:x:464:464:user for VNC:/var/lib/empty:/sbin/nologin\n",
      "boladuz:x:1000:100:boladuz:/home/boladuz:/bin/bash\n",
      "svn:x:461:461:user for Apache Subversion svnserve:/srv/svn:/sbin/nologin\n",
      "-----------------------ACABOU-----------------------\n"
     ]
    }
   ],
   "source": [
    "with open('/etc/passwd')as f:\n",
    "    try:\n",
    "        while True:\n",
    "            line = next(f) # Retorna o proxomo item da iteração, levanta a exeção StopIteration no final\n",
    "            print(line, end='')\n",
    "    except StopIteration: # Usado para sinalizar o final da iteração\n",
    "            print('-----------------------ACABOU-----------------------')\n",
    "            "
   ]
  },
  {
   "cell_type": "code",
   "execution_count": 9,
   "metadata": {},
   "outputs": [
    {
     "name": "stdout",
     "output_type": "stream",
     "text": [
      "avahi:x:467:467:User for Avahi:/run/avahi-daemon:/bin/false\n",
      "bin:x:1:1:bin:/bin:/sbin/nologin\n",
      "chrony:x:475:476:Chrony Daemon:/var/lib/chrony:/bin/false\n",
      "colord:x:469:469:user for colord:/var/lib/colord:/sbin/nologin\n",
      "daemon:x:2:2:Daemon:/sbin:/sbin/nologin\n",
      "dnsmasq:x:494:65533:dnsmasq:/var/lib/empty:/bin/false\n",
      "gdm:x:463:463:Gnome Display Manager daemon:/var/lib/gdm:/bin/false\n",
      "lightdm:x:462:462:LightDM daemon:/var/lib/lightdm:/bin/false\n",
      "lp:x:496:486:Printing daemon:/var/spool/lpd:/sbin/nologin\n",
      "mail:x:497:497:Mailer daemon:/var/spool/clientmqueue:/sbin/nologin\n",
      "man:x:13:62:Manual pages viewer:/var/lib/empty:/sbin/nologin\n",
      "messagebus:x:499:499:User for D-Bus:/run/dbus:/usr/bin/false\n",
      "nm-openconnect:x:465:465:NetworkManager user for OpenConnect:/var/lib/nm-openconnect:/sbin/nologin\n",
      "nm-openvpn:x:466:466:NetworkManager user for OpenVPN:/var/lib/openvpn:/sbin/nologin\n",
      "nobody:x:65534:65534:nobody:/var/lib/nobody:/bin/bash\n",
      "nscd:x:478:478:User for nscd:/run/nscd:/sbin/nologin\n",
      "polkitd:x:477:477:User for polkitd:/var/lib/polkit:/sbin/nologin\n",
      "postfix:x:51:51:Postfix Daemon:/var/spool/postfix:/bin/false\n",
      "pulse:x:472:472:PulseAudio daemon:/var/lib/pulseaudio:/sbin/nologin\n",
      "root:x:0:0:root:/root:/bin/bash\n",
      "rpc:x:476:65534:user for rpcbind:/var/lib/empty:/sbin/nologin\n",
      "rtkit:x:474:475:RealtimeKit:/proc:/bin/false\n",
      "scard:x:471:470:Smart Card Reader:/var/run/pcscd:/usr/sbin/nologin\n",
      "srvGeoClue:x:498:498:User for GeoClue D-Bus service:/var/lib/srvGeoClue:/sbin/nologin\n",
      "sshd:x:473:473:SSH daemon:/var/lib/sshd:/bin/false\n",
      "statd:x:468:65533:NFS statd daemon:/var/lib/nfs:/sbin/nologin\n",
      "systemd-coredump:x:480:480:systemd Core Dumper:/:/sbin/nologin\n",
      "systemd-network:x:479:479:systemd Network Management:/:/sbin/nologin\n",
      "systemd-timesync:x:481:481:systemd Time Synchronization:/:/sbin/nologin\n",
      "tftp:x:495:483:TFTP account:/srv/tftpboot:/bin/false\n",
      "usbmux:x:470:65533:usbmuxd daemon:/var/lib/usbmuxd:/sbin/nologin\n",
      "vnc:x:464:464:user for VNC:/var/lib/empty:/sbin/nologin\n",
      "boladuz:x:1000:100:boladuz:/home/boladuz:/bin/bash\n",
      "svn:x:461:461:user for Apache Subversion svnserve:/srv/svn:/sbin/nologin\n"
     ]
    }
   ],
   "source": [
    "# Também podemos usar um valor de termino\n",
    "\n",
    "with open('/etc/passwd')as f:    \n",
    "    while True:\n",
    "        line = next(f, None) # Valor do final(após o ultimo item da iteração) da iteração\n",
    "        if line is None:\n",
    "             break        \n",
    "        print(line,end='')"
   ]
  },
  {
   "cell_type": "code",
   "execution_count": 21,
   "metadata": {},
   "outputs": [
    {
     "data": {
      "text/plain": [
       "1"
      ]
     },
     "execution_count": 21,
     "metadata": {},
     "output_type": "execute_result"
    }
   ],
   "source": [
    "items = [1,2,3]\n",
    "it = iter(items)\n",
    "next(it)"
   ]
  },
  {
   "cell_type": "code",
   "execution_count": 22,
   "metadata": {},
   "outputs": [
    {
     "data": {
      "text/plain": [
       "2"
      ]
     },
     "execution_count": 22,
     "metadata": {},
     "output_type": "execute_result"
    }
   ],
   "source": [
    "next(it)"
   ]
  },
  {
   "cell_type": "code",
   "execution_count": 23,
   "metadata": {},
   "outputs": [
    {
     "data": {
      "text/plain": [
       "3"
      ]
     },
     "execution_count": 23,
     "metadata": {},
     "output_type": "execute_result"
    }
   ],
   "source": [
    "next(it)"
   ]
  },
  {
   "cell_type": "code",
   "execution_count": 24,
   "metadata": {},
   "outputs": [
    {
     "ename": "StopIteration",
     "evalue": "",
     "output_type": "error",
     "traceback": [
      "\u001b[0;31m---------------------------------------------------------------------------\u001b[0m",
      "\u001b[0;31mStopIteration\u001b[0m                             Traceback (most recent call last)",
      "\u001b[0;32m<ipython-input-24-bc1ab118995a>\u001b[0m in \u001b[0;36m<module>\u001b[0;34m()\u001b[0m\n\u001b[0;32m----> 1\u001b[0;31m \u001b[0mnext\u001b[0m\u001b[0;34m(\u001b[0m\u001b[0mit\u001b[0m\u001b[0;34m)\u001b[0m\u001b[0;34m\u001b[0m\u001b[0;34m\u001b[0m\u001b[0m\n\u001b[0m",
      "\u001b[0;31mStopIteration\u001b[0m: "
     ]
    }
   ],
   "source": [
    "next(it)"
   ]
  },
  {
   "cell_type": "markdown",
   "metadata": {},
   "source": [
    "### Criando um contêiner iterável "
   ]
  },
  {
   "cell_type": "code",
   "execution_count": 35,
   "metadata": {},
   "outputs": [
    {
     "name": "stdout",
     "output_type": "stream",
     "text": [
      "Node(1)\n",
      "Node(2)\n"
     ]
    }
   ],
   "source": [
    "class Node:\n",
    "    def __init__(self, value):\n",
    "        self._value = value\n",
    "        self._children = []\n",
    "        \n",
    "    def __repr__(self):\n",
    "        return 'Node({!r})'.format(self._value)\n",
    "            \n",
    "    def add_children(self, node):\n",
    "        self._children.append(node)\n",
    "    \n",
    "    def __iter__(self):# Faz com que a class Node seja um iterável\n",
    "        return iter(self._children)\n",
    "\n",
    "if __name__ == '__main__':\n",
    "    root = Node(0)\n",
    "    child1 = Node(1)\n",
    "    child2 = Node(2)\n",
    "    root.add_children(child1)\n",
    "    root.add_children(child2)\n",
    "        \n",
    "    for ch in root:\n",
    "        print(ch)\n",
    "    \n",
    "                "
   ]
  },
  {
   "cell_type": "markdown",
   "metadata": {},
   "source": [
    "### Função geradora"
   ]
  },
  {
   "cell_type": "code",
   "execution_count": 41,
   "metadata": {},
   "outputs": [],
   "source": [
    "def frange(start, stop, increment):\n",
    "    x = start\n",
    "    while x < stop:\n",
    "        yield x # Define a função como geradora\n",
    "        x += increment"
   ]
  },
  {
   "cell_type": "code",
   "execution_count": 42,
   "metadata": {},
   "outputs": [
    {
     "name": "stdout",
     "output_type": "stream",
     "text": [
      "0\n",
      "0.5\n",
      "1.0\n",
      "1.5\n",
      "2.0\n",
      "2.5\n",
      "3.0\n",
      "3.5\n"
     ]
    }
   ],
   "source": [
    "for n in frange(0, 4, 0.5):\n",
    "    print(n)"
   ]
  },
  {
   "cell_type": "code",
   "execution_count": null,
   "metadata": {},
   "outputs": [],
   "source": []
  },
  {
   "cell_type": "code",
   "execution_count": null,
   "metadata": {},
   "outputs": [],
   "source": []
  },
  {
   "cell_type": "code",
   "execution_count": null,
   "metadata": {},
   "outputs": [],
   "source": []
  },
  {
   "cell_type": "code",
   "execution_count": null,
   "metadata": {},
   "outputs": [],
   "source": []
  },
  {
   "cell_type": "code",
   "execution_count": null,
   "metadata": {},
   "outputs": [],
   "source": []
  },
  {
   "cell_type": "code",
   "execution_count": null,
   "metadata": {},
   "outputs": [],
   "source": []
  },
  {
   "cell_type": "code",
   "execution_count": null,
   "metadata": {},
   "outputs": [],
   "source": []
  }
 ],
 "metadata": {
  "kernelspec": {
   "display_name": "Python 3",
   "language": "python",
   "name": "python3"
  },
  "language_info": {
   "codemirror_mode": {
    "name": "ipython",
    "version": 3
   },
   "file_extension": ".py",
   "mimetype": "text/x-python",
   "name": "python",
   "nbconvert_exporter": "python",
   "pygments_lexer": "ipython3",
   "version": "3.7.1"
  }
 },
 "nbformat": 4,
 "nbformat_minor": 1
}
