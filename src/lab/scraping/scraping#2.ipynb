{
 "cells": [
  {
   "cell_type": "markdown",
   "metadata": {},
   "source": [
    "# Raspagem de Dados com Python e BeautifulSoup\n",
    "\n",
    "https://medium.com/machina-sapiens/raspagem-de-dados-com-python-e-beautifulsoup-1b1b7019774c"
   ]
  },
  {
   "cell_type": "code",
   "execution_count": 85,
   "metadata": {},
   "outputs": [],
   "source": [
    "from requests import get\n",
    "from bs4 import BeautifulSoup\n",
    "\n",
    "import numpy as np\n",
    "import matplotlib.pyplot as plt\n",
    "import seaborn as sns\n",
    "\n",
    "%matplotlib inline"
   ]
  },
  {
   "cell_type": "code",
   "execution_count": 3,
   "metadata": {},
   "outputs": [],
   "source": [
    "url = 'http://www.imdb.com/search/title?release_date=2017&sort=num_votes,desc&page=1'"
   ]
  },
  {
   "cell_type": "code",
   "execution_count": 4,
   "metadata": {},
   "outputs": [
    {
     "name": "stdout",
     "output_type": "stream",
     "text": [
      "\n",
      "\n",
      "\n",
      "<!DOCTYPE html>\n",
      "<html\n",
      "    xmlns:og=\"http://ogp.me/ns#\"\n",
      "    xmlns:fb=\"http://www.facebook.com/2008/fbml\">\n",
      "    <head>\n",
      "         \n",
      "        <meta charset=\"utf-8\">\n",
      "        <meta http-equiv=\"X-UA-Compatible\" content=\"IE=edge\">\n",
      "\n",
      "    <meta name=\"apple-itunes-app\" content=\"app-id=342792525, app-argument=imdb:///?src=mdot\">\n",
      "\n",
      "\n",
      "\n",
      "        <script type=\"text/javascript\">var IMDbTimer={starttime: new Date().getTime(),pt:'java'};</script>\n",
      "\n",
      "<script>\n",
      "    if (typeof uet == 'function') {\n",
      "      uet(\"bb\", \"LoadTitle\"\n"
     ]
    }
   ],
   "source": [
    "response = get(url)\n",
    "print(response.text[:500])"
   ]
  },
  {
   "cell_type": "code",
   "execution_count": 5,
   "metadata": {},
   "outputs": [
    {
     "data": {
      "text/plain": [
       "bs4.BeautifulSoup"
      ]
     },
     "execution_count": 5,
     "metadata": {},
     "output_type": "execute_result"
    }
   ],
   "source": [
    "html_soup = BeautifulSoup(response.text, 'html.parser')\n",
    "type(html_soup)"
   ]
  },
  {
   "cell_type": "code",
   "execution_count": 6,
   "metadata": {},
   "outputs": [
    {
     "name": "stdout",
     "output_type": "stream",
     "text": [
      "<class 'bs4.element.ResultSet'>\n",
      "50\n"
     ]
    }
   ],
   "source": [
    "movie_containers = html_soup.find_all('div', class_ = 'lister-item mode-advanced')\n",
    "print(type(movie_containers))\n",
    "print(len(movie_containers))"
   ]
  },
  {
   "cell_type": "markdown",
   "metadata": {},
   "source": [
    "### Extraindo dados de um único filme"
   ]
  },
  {
   "cell_type": "code",
   "execution_count": 7,
   "metadata": {},
   "outputs": [
    {
     "data": {
      "text/plain": [
       "<div class=\"lister-item mode-advanced\">\n",
       "<div class=\"lister-top-right\">\n",
       "<div class=\"ribbonize\" data-caller=\"filmosearch\" data-tconst=\"tt3315342\"></div>\n",
       "</div>\n",
       "<div class=\"lister-item-image float-left\">\n",
       "<a href=\"/title/tt3315342/?ref_=adv_li_i\"> <img alt=\"Logan\" class=\"loadlate\" data-tconst=\"tt3315342\" height=\"98\" loadlate=\"https://m.media-amazon.com/images/M/MV5BYzc5MTU4N2EtYTkyMi00NjdhLTg3NWEtMTY4OTEyMzJhZTAzXkEyXkFqcGdeQXVyNjc1NTYyMjg@._V1_UX67_CR0,0,67,98_AL_.jpg\" src=\"https://m.media-amazon.com/images/G/01/imdb/images/nopicture/large/film-184890147._CB470041630_.png\" width=\"67\"/>\n",
       "</a> </div>\n",
       "<div class=\"lister-item-content\">\n",
       "<h3 class=\"lister-item-header\">\n",
       "<span class=\"lister-item-index unbold text-primary\">1.</span>\n",
       "<a href=\"/title/tt3315342/?ref_=adv_li_tt\">Logan</a>\n",
       "<span class=\"lister-item-year text-muted unbold\">(2017)</span>\n",
       "</h3>\n",
       "<p class=\"text-muted \">\n",
       "<span class=\"certificate\">16</span>\n",
       "<span class=\"ghost\">|</span>\n",
       "<span class=\"runtime\">137 min</span>\n",
       "<span class=\"ghost\">|</span>\n",
       "<span class=\"genre\">\n",
       "Action, Drama, Sci-Fi            </span>\n",
       "</p>\n",
       "<div class=\"ratings-bar\">\n",
       "<div class=\"inline-block ratings-imdb-rating\" data-value=\"8.1\" name=\"ir\">\n",
       "<span class=\"global-sprite rating-star imdb-rating\"></span>\n",
       "<strong>8.1</strong>\n",
       "</div>\n",
       "<div class=\"inline-block ratings-user-rating\">\n",
       "<span class=\"userRatingValue\" data-tconst=\"tt3315342\" id=\"urv_tt3315342\">\n",
       "<span class=\"global-sprite rating-star no-rating\"></span>\n",
       "<span class=\"rate\" data-no-rating=\"Rate this\" data-value=\"0\" name=\"ur\">Rate this</span>\n",
       "</span>\n",
       "<div class=\"starBarWidget\" id=\"sb_tt3315342\">\n",
       "<div class=\"rating rating-list\" data-auth=\"\" data-ga-identifier=\"\" data-starbar-class=\"rating-list\" data-user=\"\" id=\"tt3315342|imdb|8.1|8.1|||search|title\" itemprop=\"aggregateRating\" itemscope=\"\" itemtype=\"http://schema.org/AggregateRating\" title=\"Users rated this 8.1/10 (505,397 votes) - click stars to rate\">\n",
       "<meta content=\"8.1\" itemprop=\"ratingValue\"/>\n",
       "<meta content=\"10\" itemprop=\"bestRating\"/>\n",
       "<meta content=\"505397\" itemprop=\"ratingCount\"/>\n",
       "<span class=\"rating-bg\"> </span>\n",
       "<span class=\"rating-imdb \" style=\"width: 113.4px\"> </span>\n",
       "<span class=\"rating-stars\">\n",
       "<a href=\"/register/login?why=vote&amp;ref_=tt_ov_rt\" rel=\"nofollow\" title=\"Register or login to rate this title\"><span>1</span></a>\n",
       "<a href=\"/register/login?why=vote&amp;ref_=tt_ov_rt\" rel=\"nofollow\" title=\"Register or login to rate this title\"><span>2</span></a>\n",
       "<a href=\"/register/login?why=vote&amp;ref_=tt_ov_rt\" rel=\"nofollow\" title=\"Register or login to rate this title\"><span>3</span></a>\n",
       "<a href=\"/register/login?why=vote&amp;ref_=tt_ov_rt\" rel=\"nofollow\" title=\"Register or login to rate this title\"><span>4</span></a>\n",
       "<a href=\"/register/login?why=vote&amp;ref_=tt_ov_rt\" rel=\"nofollow\" title=\"Register or login to rate this title\"><span>5</span></a>\n",
       "<a href=\"/register/login?why=vote&amp;ref_=tt_ov_rt\" rel=\"nofollow\" title=\"Register or login to rate this title\"><span>6</span></a>\n",
       "<a href=\"/register/login?why=vote&amp;ref_=tt_ov_rt\" rel=\"nofollow\" title=\"Register or login to rate this title\"><span>7</span></a>\n",
       "<a href=\"/register/login?why=vote&amp;ref_=tt_ov_rt\" rel=\"nofollow\" title=\"Register or login to rate this title\"><span>8</span></a>\n",
       "<a href=\"/register/login?why=vote&amp;ref_=tt_ov_rt\" rel=\"nofollow\" title=\"Register or login to rate this title\"><span>9</span></a>\n",
       "<a href=\"/register/login?why=vote&amp;ref_=tt_ov_rt\" rel=\"nofollow\" title=\"Register or login to rate this title\"><span>10</span></a>\n",
       "</span>\n",
       "<span class=\"rating-rating \"><span class=\"value\">8.1</span><span class=\"grey\">/</span><span class=\"grey\">10</span></span>\n",
       "<span class=\"rating-cancel \"><a href=\"/title/tt3315342/vote?v=X;k=\" rel=\"nofollow\" title=\"Delete\"><span>X</span></a></span>\n",
       " </div>\n",
       "</div>\n",
       "</div>\n",
       "<div class=\"inline-block ratings-metascore\">\n",
       "<span class=\"metascore favorable\">77        </span>\n",
       "        Metascore\n",
       "            </div>\n",
       "</div>\n",
       "<p class=\"text-muted\">\n",
       "    In the near future, a weary Logan cares for an ailing Professor X, somewhere on the Mexican border. However, Logan's attempts to hide from the world, and his legacy, are upended when a young mutant arrives, pursued by dark forces.</p>\n",
       "<p class=\"\">\n",
       "    Director:\n",
       "<a href=\"/name/nm0003506/?ref_=adv_li_dr_0\">James Mangold</a>\n",
       "<span class=\"ghost\">|</span> \n",
       "    Stars:\n",
       "<a href=\"/name/nm0413168/?ref_=adv_li_st_0\">Hugh Jackman</a>, \n",
       "<a href=\"/name/nm0001772/?ref_=adv_li_st_1\">Patrick Stewart</a>, \n",
       "<a href=\"/name/nm6748436/?ref_=adv_li_st_2\">Dafne Keen</a>, \n",
       "<a href=\"/name/nm2933542/?ref_=adv_li_st_3\">Boyd Holbrook</a>\n",
       "</p>\n",
       "<p class=\"sort-num_votes-visible\">\n",
       "<span class=\"text-muted\">Votes:</span>\n",
       "<span data-value=\"505397\" name=\"nv\">505,397</span>\n",
       "<span class=\"ghost\">|</span> <span class=\"text-muted\">Gross:</span>\n",
       "<span data-value=\"226,277,068\" name=\"nv\">$226.28M</span>\n",
       "</p>\n",
       "</div>\n",
       "</div>"
      ]
     },
     "execution_count": 7,
     "metadata": {},
     "output_type": "execute_result"
    }
   ],
   "source": [
    "first_movie = movie_containers[0]\n",
    "first_movie"
   ]
  },
  {
   "cell_type": "markdown",
   "metadata": {},
   "source": [
    "#### O nome do filme\n"
   ]
  },
  {
   "cell_type": "code",
   "execution_count": 16,
   "metadata": {},
   "outputs": [
    {
     "data": {
      "text/plain": [
       "<div class=\"lister-top-right\">\n",
       "<div class=\"ribbonize\" data-caller=\"filmosearch\" data-tconst=\"tt3315342\"></div>\n",
       "</div>"
      ]
     },
     "execution_count": 16,
     "metadata": {},
     "output_type": "execute_result"
    }
   ],
   "source": [
    "first_movie.div"
   ]
  },
  {
   "cell_type": "code",
   "execution_count": 9,
   "metadata": {},
   "outputs": [
    {
     "data": {
      "text/plain": [
       "<a href=\"/title/tt3315342/?ref_=adv_li_i\"> <img alt=\"Logan\" class=\"loadlate\" data-tconst=\"tt3315342\" height=\"98\" loadlate=\"https://m.media-amazon.com/images/M/MV5BYzc5MTU4N2EtYTkyMi00NjdhLTg3NWEtMTY4OTEyMzJhZTAzXkEyXkFqcGdeQXVyNjc1NTYyMjg@._V1_UX67_CR0,0,67,98_AL_.jpg\" src=\"https://m.media-amazon.com/images/G/01/imdb/images/nopicture/large/film-184890147._CB470041630_.png\" width=\"67\"/>\n",
       "</a>"
      ]
     },
     "execution_count": 9,
     "metadata": {},
     "output_type": "execute_result"
    }
   ],
   "source": [
    "first_movie.a"
   ]
  },
  {
   "cell_type": "code",
   "execution_count": 11,
   "metadata": {},
   "outputs": [
    {
     "data": {
      "text/plain": [
       "<h3 class=\"lister-item-header\">\n",
       "<span class=\"lister-item-index unbold text-primary\">1.</span>\n",
       "<a href=\"/title/tt3315342/?ref_=adv_li_tt\">Logan</a>\n",
       "<span class=\"lister-item-year text-muted unbold\">(2017)</span>\n",
       "</h3>"
      ]
     },
     "execution_count": 11,
     "metadata": {},
     "output_type": "execute_result"
    }
   ],
   "source": [
    "first_movie.h3"
   ]
  },
  {
   "cell_type": "code",
   "execution_count": 24,
   "metadata": {},
   "outputs": [
    {
     "name": "stdout",
     "output_type": "stream",
     "text": [
      "<a href=\"/title/tt3315342/?ref_=adv_li_tt\">Logan</a>\n",
      "Logan\n"
     ]
    }
   ],
   "source": [
    "print(first_movie.h3.a)\n",
    "print(first_movie.h3.a.text)"
   ]
  },
  {
   "cell_type": "markdown",
   "metadata": {},
   "source": [
    "#### O ano de lançamento do filme"
   ]
  },
  {
   "cell_type": "code",
   "execution_count": 15,
   "metadata": {},
   "outputs": [
    {
     "name": "stdout",
     "output_type": "stream",
     "text": [
      "Logan\n"
     ]
    }
   ],
   "source": [
    "first_name = first_movie.h3.a.text\n",
    "\n",
    "print(first_name)"
   ]
  },
  {
   "cell_type": "code",
   "execution_count": 23,
   "metadata": {},
   "outputs": [
    {
     "name": "stdout",
     "output_type": "stream",
     "text": [
      "(2017)\n",
      "2017\n"
     ]
    }
   ],
   "source": [
    "first_year = first_movie.h3.find('span', class_ = 'lister-item-year text-muted unbold')\n",
    "print(first_year.text)\n",
    "print(str(first_year.text).strip('()')) # Limpeza"
   ]
  },
  {
   "cell_type": "markdown",
   "metadata": {},
   "source": [
    "#### A avaliação IMDB\n"
   ]
  },
  {
   "cell_type": "code",
   "execution_count": 31,
   "metadata": {},
   "outputs": [
    {
     "name": "stdout",
     "output_type": "stream",
     "text": [
      "<strong>8.1</strong>\n"
     ]
    },
    {
     "data": {
      "text/plain": [
       "8.1"
      ]
     },
     "execution_count": 31,
     "metadata": {},
     "output_type": "execute_result"
    }
   ],
   "source": [
    "first_imdb = float(first_movie.strong.text)\n",
    "\n",
    "print(first_movie.strong)\n",
    "first_imdb"
   ]
  },
  {
   "cell_type": "markdown",
   "metadata": {},
   "source": [
    "#### O Metascore\n"
   ]
  },
  {
   "cell_type": "code",
   "execution_count": 51,
   "metadata": {},
   "outputs": [
    {
     "data": {
      "text/plain": [
       "77.0"
      ]
     },
     "execution_count": 51,
     "metadata": {},
     "output_type": "execute_result"
    }
   ],
   "source": [
    "first_mscore = first_movie.find('span', class_ = 'metascore favorable')\n",
    "first_mscore = float(first_mscore.text)\n",
    "first_mscore"
   ]
  },
  {
   "cell_type": "markdown",
   "metadata": {},
   "source": [
    "#### O número de votos\n"
   ]
  },
  {
   "cell_type": "code",
   "execution_count": 61,
   "metadata": {},
   "outputs": [
    {
     "data": {
      "text/plain": [
       "505397"
      ]
     },
     "execution_count": 61,
     "metadata": {},
     "output_type": "execute_result"
    }
   ],
   "source": [
    "first_votes = first_movie.find('span', attrs ={'name':'nv'})\n",
    "first_votes = int(first_votes['data-value'])\n",
    "first_votes"
   ]
  },
  {
   "cell_type": "markdown",
   "metadata": {},
   "source": [
    "#### O script para uma página"
   ]
  },
  {
   "cell_type": "code",
   "execution_count": 62,
   "metadata": {},
   "outputs": [],
   "source": [
    "# Lists to store the scraped data in\n",
    "names = []\n",
    "years = []\n",
    "imdb_ratings = []\n",
    "metascores = []\n",
    "votes = []\n",
    "# Extract data from individual movie container\n",
    "for container in movie_containers:\n",
    "    \n",
    "    # If the movie has Metascore, then extract:\n",
    "    if container.find('div', class_ = 'ratings-metascore') is not None:\n",
    "        \n",
    "        # The name\n",
    "        name = container.h3.a.text\n",
    "        names.append(name)\n",
    "        \n",
    "        # The year\n",
    "        year = container.h3.find('span', class_ = 'lister-item-year').text\n",
    "        years.append(year)\n",
    "        \n",
    "        # The IMDB rating\n",
    "        imdb = float(container.strong.text)\n",
    "        imdb_ratings.append(imdb)\n",
    "        \n",
    "        # The Metascore\n",
    "        m_score = container.find('span', class_ = 'metascore').text\n",
    "        metascores.append(int(m_score))\n",
    "        \n",
    "        # The number of votes\n",
    "        vote = container.find('span', attrs = {'name':'nv'})['data-value']\n",
    "        votes.append(int(vote))"
   ]
  },
  {
   "cell_type": "markdown",
   "metadata": {},
   "source": [
    "#### Pandas"
   ]
  },
  {
   "cell_type": "code",
   "execution_count": 71,
   "metadata": {},
   "outputs": [
    {
     "name": "stdout",
     "output_type": "stream",
     "text": [
      "<class 'pandas.core.frame.DataFrame'>\n",
      "RangeIndex: 47 entries, 0 to 46\n",
      "Data columns (total 5 columns):\n",
      "movie        47 non-null object\n",
      "year         47 non-null object\n",
      "imdb         47 non-null float64\n",
      "metascore    47 non-null int64\n",
      "votes        47 non-null int64\n",
      "dtypes: float64(1), int64(2), object(2)\n",
      "memory usage: 1.9+ KB\n",
      "None\n"
     ]
    },
    {
     "data": {
      "text/html": [
       "<div>\n",
       "<style scoped>\n",
       "    .dataframe tbody tr th:only-of-type {\n",
       "        vertical-align: middle;\n",
       "    }\n",
       "\n",
       "    .dataframe tbody tr th {\n",
       "        vertical-align: top;\n",
       "    }\n",
       "\n",
       "    .dataframe thead th {\n",
       "        text-align: right;\n",
       "    }\n",
       "</style>\n",
       "<table border=\"1\" class=\"dataframe\">\n",
       "  <thead>\n",
       "    <tr style=\"text-align: right;\">\n",
       "      <th></th>\n",
       "      <th>movie</th>\n",
       "      <th>year</th>\n",
       "      <th>imdb</th>\n",
       "      <th>metascore</th>\n",
       "      <th>votes</th>\n",
       "    </tr>\n",
       "  </thead>\n",
       "  <tbody>\n",
       "    <tr>\n",
       "      <th>0</th>\n",
       "      <td>Logan</td>\n",
       "      <td>(2017)</td>\n",
       "      <td>8.1</td>\n",
       "      <td>77</td>\n",
       "      <td>505397</td>\n",
       "    </tr>\n",
       "    <tr>\n",
       "      <th>1</th>\n",
       "      <td>Mulher-Maravilha</td>\n",
       "      <td>(2017)</td>\n",
       "      <td>7.5</td>\n",
       "      <td>76</td>\n",
       "      <td>433738</td>\n",
       "    </tr>\n",
       "    <tr>\n",
       "      <th>2</th>\n",
       "      <td>Dunkirk</td>\n",
       "      <td>(2017)</td>\n",
       "      <td>8.0</td>\n",
       "      <td>94</td>\n",
       "      <td>415246</td>\n",
       "    </tr>\n",
       "    <tr>\n",
       "      <th>3</th>\n",
       "      <td>Star Wars: Os Últimos Jedi</td>\n",
       "      <td>(2017)</td>\n",
       "      <td>7.2</td>\n",
       "      <td>85</td>\n",
       "      <td>411253</td>\n",
       "    </tr>\n",
       "    <tr>\n",
       "      <th>4</th>\n",
       "      <td>Guardiões da Galáxia Vol. 2</td>\n",
       "      <td>(2017)</td>\n",
       "      <td>7.7</td>\n",
       "      <td>67</td>\n",
       "      <td>406751</td>\n",
       "    </tr>\n",
       "    <tr>\n",
       "      <th>5</th>\n",
       "      <td>Thor: Ragnarok</td>\n",
       "      <td>(2017)</td>\n",
       "      <td>7.9</td>\n",
       "      <td>74</td>\n",
       "      <td>380778</td>\n",
       "    </tr>\n",
       "    <tr>\n",
       "      <th>6</th>\n",
       "      <td>Homem-Aranha: De Volta ao Lar</td>\n",
       "      <td>(2017)</td>\n",
       "      <td>7.5</td>\n",
       "      <td>73</td>\n",
       "      <td>353693</td>\n",
       "    </tr>\n",
       "    <tr>\n",
       "      <th>7</th>\n",
       "      <td>Corra!</td>\n",
       "      <td>(I) (2017)</td>\n",
       "      <td>7.7</td>\n",
       "      <td>84</td>\n",
       "      <td>328654</td>\n",
       "    </tr>\n",
       "    <tr>\n",
       "      <th>8</th>\n",
       "      <td>Blade Runner 2049</td>\n",
       "      <td>(2017)</td>\n",
       "      <td>8.1</td>\n",
       "      <td>81</td>\n",
       "      <td>326730</td>\n",
       "    </tr>\n",
       "    <tr>\n",
       "      <th>9</th>\n",
       "      <td>Em Ritmo de Fuga</td>\n",
       "      <td>(2017)</td>\n",
       "      <td>7.7</td>\n",
       "      <td>86</td>\n",
       "      <td>321497</td>\n",
       "    </tr>\n",
       "    <tr>\n",
       "      <th>10</th>\n",
       "      <td>It: A Coisa</td>\n",
       "      <td>(I) (2017)</td>\n",
       "      <td>7.4</td>\n",
       "      <td>69</td>\n",
       "      <td>302302</td>\n",
       "    </tr>\n",
       "    <tr>\n",
       "      <th>11</th>\n",
       "      <td>Liga da Justiça</td>\n",
       "      <td>(2017)</td>\n",
       "      <td>6.6</td>\n",
       "      <td>45</td>\n",
       "      <td>279068</td>\n",
       "    </tr>\n",
       "    <tr>\n",
       "      <th>12</th>\n",
       "      <td>Três Anúncios para um Crime</td>\n",
       "      <td>(2017)</td>\n",
       "      <td>8.2</td>\n",
       "      <td>88</td>\n",
       "      <td>273105</td>\n",
       "    </tr>\n",
       "    <tr>\n",
       "      <th>13</th>\n",
       "      <td>A Forma da Água</td>\n",
       "      <td>(2017)</td>\n",
       "      <td>7.4</td>\n",
       "      <td>87</td>\n",
       "      <td>245940</td>\n",
       "    </tr>\n",
       "    <tr>\n",
       "      <th>14</th>\n",
       "      <td>John Wick: Um Novo Dia Para Matar</td>\n",
       "      <td>(2017)</td>\n",
       "      <td>7.5</td>\n",
       "      <td>75</td>\n",
       "      <td>241362</td>\n",
       "    </tr>\n",
       "    <tr>\n",
       "      <th>15</th>\n",
       "      <td>A Bela e a Fera</td>\n",
       "      <td>(2017)</td>\n",
       "      <td>7.2</td>\n",
       "      <td>65</td>\n",
       "      <td>215351</td>\n",
       "    </tr>\n",
       "    <tr>\n",
       "      <th>16</th>\n",
       "      <td>Kong: A Ilha da Caveira</td>\n",
       "      <td>(2017)</td>\n",
       "      <td>6.7</td>\n",
       "      <td>62</td>\n",
       "      <td>214600</td>\n",
       "    </tr>\n",
       "    <tr>\n",
       "      <th>17</th>\n",
       "      <td>Viva - A Vida é uma Festa</td>\n",
       "      <td>(I) (2017)</td>\n",
       "      <td>8.4</td>\n",
       "      <td>81</td>\n",
       "      <td>212370</td>\n",
       "    </tr>\n",
       "    <tr>\n",
       "      <th>18</th>\n",
       "      <td>Alien: Covenant</td>\n",
       "      <td>(2017)</td>\n",
       "      <td>6.4</td>\n",
       "      <td>65</td>\n",
       "      <td>207545</td>\n",
       "    </tr>\n",
       "    <tr>\n",
       "      <th>19</th>\n",
       "      <td>Piratas do Caribe: A Vingança de Salazar</td>\n",
       "      <td>(2017)</td>\n",
       "      <td>6.6</td>\n",
       "      <td>39</td>\n",
       "      <td>205081</td>\n",
       "    </tr>\n",
       "    <tr>\n",
       "      <th>20</th>\n",
       "      <td>Kingsman: O Círculo Dourado</td>\n",
       "      <td>(2017)</td>\n",
       "      <td>6.8</td>\n",
       "      <td>44</td>\n",
       "      <td>200053</td>\n",
       "    </tr>\n",
       "    <tr>\n",
       "      <th>21</th>\n",
       "      <td>Jumanji: Bem-Vindo à Selva</td>\n",
       "      <td>(2017)</td>\n",
       "      <td>7.0</td>\n",
       "      <td>58</td>\n",
       "      <td>199401</td>\n",
       "    </tr>\n",
       "    <tr>\n",
       "      <th>22</th>\n",
       "      <td>Planeta dos Macacos: A Guerra</td>\n",
       "      <td>(2017)</td>\n",
       "      <td>7.5</td>\n",
       "      <td>82</td>\n",
       "      <td>182802</td>\n",
       "    </tr>\n",
       "    <tr>\n",
       "      <th>23</th>\n",
       "      <td>Velozes e Furiosos 8</td>\n",
       "      <td>(2017)</td>\n",
       "      <td>6.7</td>\n",
       "      <td>56</td>\n",
       "      <td>166597</td>\n",
       "    </tr>\n",
       "    <tr>\n",
       "      <th>24</th>\n",
       "      <td>Vida</td>\n",
       "      <td>(I) (2017)</td>\n",
       "      <td>6.6</td>\n",
       "      <td>54</td>\n",
       "      <td>163622</td>\n",
       "    </tr>\n",
       "    <tr>\n",
       "      <th>25</th>\n",
       "      <td>A Vigilante do Amanhã: Ghost in the Shell</td>\n",
       "      <td>(2017)</td>\n",
       "      <td>6.4</td>\n",
       "      <td>52</td>\n",
       "      <td>159556</td>\n",
       "    </tr>\n",
       "    <tr>\n",
       "      <th>26</th>\n",
       "      <td>Rei Arthur: A Lenda da Espada</td>\n",
       "      <td>(2017)</td>\n",
       "      <td>6.8</td>\n",
       "      <td>41</td>\n",
       "      <td>154748</td>\n",
       "    </tr>\n",
       "    <tr>\n",
       "      <th>27</th>\n",
       "      <td>Assassinato no Expresso do Oriente</td>\n",
       "      <td>(2017)</td>\n",
       "      <td>6.5</td>\n",
       "      <td>52</td>\n",
       "      <td>152467</td>\n",
       "    </tr>\n",
       "    <tr>\n",
       "      <th>28</th>\n",
       "      <td>O Rei do Show</td>\n",
       "      <td>(2017)</td>\n",
       "      <td>7.7</td>\n",
       "      <td>48</td>\n",
       "      <td>150157</td>\n",
       "    </tr>\n",
       "    <tr>\n",
       "      <th>29</th>\n",
       "      <td>Lady Bird: A Hora de Voar</td>\n",
       "      <td>(2017)</td>\n",
       "      <td>7.5</td>\n",
       "      <td>94</td>\n",
       "      <td>144165</td>\n",
       "    </tr>\n",
       "    <tr>\n",
       "      <th>30</th>\n",
       "      <td>Dupla Explosiva</td>\n",
       "      <td>(2017)</td>\n",
       "      <td>6.9</td>\n",
       "      <td>47</td>\n",
       "      <td>142632</td>\n",
       "    </tr>\n",
       "    <tr>\n",
       "      <th>31</th>\n",
       "      <td>Terra Selvagem</td>\n",
       "      <td>(2017)</td>\n",
       "      <td>7.8</td>\n",
       "      <td>73</td>\n",
       "      <td>140350</td>\n",
       "    </tr>\n",
       "    <tr>\n",
       "      <th>32</th>\n",
       "      <td>A Múmia</td>\n",
       "      <td>(2017)</td>\n",
       "      <td>5.5</td>\n",
       "      <td>34</td>\n",
       "      <td>139653</td>\n",
       "    </tr>\n",
       "    <tr>\n",
       "      <th>33</th>\n",
       "      <td>Bright</td>\n",
       "      <td>(I) (2017)</td>\n",
       "      <td>6.4</td>\n",
       "      <td>29</td>\n",
       "      <td>133914</td>\n",
       "    </tr>\n",
       "    <tr>\n",
       "      <th>34</th>\n",
       "      <td>Atômica</td>\n",
       "      <td>(2017)</td>\n",
       "      <td>6.7</td>\n",
       "      <td>63</td>\n",
       "      <td>133362</td>\n",
       "    </tr>\n",
       "    <tr>\n",
       "      <th>35</th>\n",
       "      <td>Mãe!</td>\n",
       "      <td>(2017)</td>\n",
       "      <td>6.7</td>\n",
       "      <td>75</td>\n",
       "      <td>131885</td>\n",
       "    </tr>\n",
       "    <tr>\n",
       "      <th>36</th>\n",
       "      <td>Valerian e a Cidade dos Mil Planetas</td>\n",
       "      <td>(2017)</td>\n",
       "      <td>6.5</td>\n",
       "      <td>51</td>\n",
       "      <td>125250</td>\n",
       "    </tr>\n",
       "    <tr>\n",
       "      <th>37</th>\n",
       "      <td>Me Chame pelo Seu Nome</td>\n",
       "      <td>(2017)</td>\n",
       "      <td>8.0</td>\n",
       "      <td>93</td>\n",
       "      <td>122910</td>\n",
       "    </tr>\n",
       "    <tr>\n",
       "      <th>38</th>\n",
       "      <td>Baywatch: S.O.S. Malibu</td>\n",
       "      <td>(2017)</td>\n",
       "      <td>5.6</td>\n",
       "      <td>37</td>\n",
       "      <td>115061</td>\n",
       "    </tr>\n",
       "    <tr>\n",
       "      <th>39</th>\n",
       "      <td>Feito na América</td>\n",
       "      <td>(2017)</td>\n",
       "      <td>7.2</td>\n",
       "      <td>65</td>\n",
       "      <td>113745</td>\n",
       "    </tr>\n",
       "    <tr>\n",
       "      <th>40</th>\n",
       "      <td>O Destino de uma Nação</td>\n",
       "      <td>(2017)</td>\n",
       "      <td>7.4</td>\n",
       "      <td>75</td>\n",
       "      <td>111035</td>\n",
       "    </tr>\n",
       "    <tr>\n",
       "      <th>41</th>\n",
       "      <td>Eu, Tonya</td>\n",
       "      <td>(2017)</td>\n",
       "      <td>7.5</td>\n",
       "      <td>77</td>\n",
       "      <td>108494</td>\n",
       "    </tr>\n",
       "    <tr>\n",
       "      <th>42</th>\n",
       "      <td>Transformers: O Último Cavaleiro</td>\n",
       "      <td>(2017)</td>\n",
       "      <td>5.2</td>\n",
       "      <td>27</td>\n",
       "      <td>105302</td>\n",
       "    </tr>\n",
       "    <tr>\n",
       "      <th>43</th>\n",
       "      <td>LEGO Batman: O Filme</td>\n",
       "      <td>(2017)</td>\n",
       "      <td>7.3</td>\n",
       "      <td>75</td>\n",
       "      <td>103985</td>\n",
       "    </tr>\n",
       "    <tr>\n",
       "      <th>44</th>\n",
       "      <td>A Torre Negra</td>\n",
       "      <td>(2017)</td>\n",
       "      <td>5.7</td>\n",
       "      <td>34</td>\n",
       "      <td>96398</td>\n",
       "    </tr>\n",
       "    <tr>\n",
       "      <th>45</th>\n",
       "      <td>Doentes de Amor</td>\n",
       "      <td>(2017)</td>\n",
       "      <td>7.6</td>\n",
       "      <td>86</td>\n",
       "      <td>92743</td>\n",
       "    </tr>\n",
       "    <tr>\n",
       "      <th>46</th>\n",
       "      <td>Artista do Desastre</td>\n",
       "      <td>(2017)</td>\n",
       "      <td>7.5</td>\n",
       "      <td>76</td>\n",
       "      <td>92464</td>\n",
       "    </tr>\n",
       "  </tbody>\n",
       "</table>\n",
       "</div>"
      ],
      "text/plain": [
       "                                        movie        year  imdb  metascore  \\\n",
       "0                                       Logan      (2017)   8.1         77   \n",
       "1                            Mulher-Maravilha      (2017)   7.5         76   \n",
       "2                                     Dunkirk      (2017)   8.0         94   \n",
       "3                  Star Wars: Os Últimos Jedi      (2017)   7.2         85   \n",
       "4                 Guardiões da Galáxia Vol. 2      (2017)   7.7         67   \n",
       "5                              Thor: Ragnarok      (2017)   7.9         74   \n",
       "6               Homem-Aranha: De Volta ao Lar      (2017)   7.5         73   \n",
       "7                                      Corra!  (I) (2017)   7.7         84   \n",
       "8                           Blade Runner 2049      (2017)   8.1         81   \n",
       "9                            Em Ritmo de Fuga      (2017)   7.7         86   \n",
       "10                                It: A Coisa  (I) (2017)   7.4         69   \n",
       "11                            Liga da Justiça      (2017)   6.6         45   \n",
       "12                Três Anúncios para um Crime      (2017)   8.2         88   \n",
       "13                            A Forma da Água      (2017)   7.4         87   \n",
       "14          John Wick: Um Novo Dia Para Matar      (2017)   7.5         75   \n",
       "15                            A Bela e a Fera      (2017)   7.2         65   \n",
       "16                    Kong: A Ilha da Caveira      (2017)   6.7         62   \n",
       "17                  Viva - A Vida é uma Festa  (I) (2017)   8.4         81   \n",
       "18                            Alien: Covenant      (2017)   6.4         65   \n",
       "19   Piratas do Caribe: A Vingança de Salazar      (2017)   6.6         39   \n",
       "20                Kingsman: O Círculo Dourado      (2017)   6.8         44   \n",
       "21                 Jumanji: Bem-Vindo à Selva      (2017)   7.0         58   \n",
       "22              Planeta dos Macacos: A Guerra      (2017)   7.5         82   \n",
       "23                       Velozes e Furiosos 8      (2017)   6.7         56   \n",
       "24                                       Vida  (I) (2017)   6.6         54   \n",
       "25  A Vigilante do Amanhã: Ghost in the Shell      (2017)   6.4         52   \n",
       "26              Rei Arthur: A Lenda da Espada      (2017)   6.8         41   \n",
       "27         Assassinato no Expresso do Oriente      (2017)   6.5         52   \n",
       "28                              O Rei do Show      (2017)   7.7         48   \n",
       "29                  Lady Bird: A Hora de Voar      (2017)   7.5         94   \n",
       "30                            Dupla Explosiva      (2017)   6.9         47   \n",
       "31                             Terra Selvagem      (2017)   7.8         73   \n",
       "32                                    A Múmia      (2017)   5.5         34   \n",
       "33                                     Bright  (I) (2017)   6.4         29   \n",
       "34                                    Atômica      (2017)   6.7         63   \n",
       "35                                       Mãe!      (2017)   6.7         75   \n",
       "36       Valerian e a Cidade dos Mil Planetas      (2017)   6.5         51   \n",
       "37                     Me Chame pelo Seu Nome      (2017)   8.0         93   \n",
       "38                    Baywatch: S.O.S. Malibu      (2017)   5.6         37   \n",
       "39                           Feito na América      (2017)   7.2         65   \n",
       "40                     O Destino de uma Nação      (2017)   7.4         75   \n",
       "41                                  Eu, Tonya      (2017)   7.5         77   \n",
       "42           Transformers: O Último Cavaleiro      (2017)   5.2         27   \n",
       "43                       LEGO Batman: O Filme      (2017)   7.3         75   \n",
       "44                              A Torre Negra      (2017)   5.7         34   \n",
       "45                            Doentes de Amor      (2017)   7.6         86   \n",
       "46                        Artista do Desastre      (2017)   7.5         76   \n",
       "\n",
       "     votes  \n",
       "0   505397  \n",
       "1   433738  \n",
       "2   415246  \n",
       "3   411253  \n",
       "4   406751  \n",
       "5   380778  \n",
       "6   353693  \n",
       "7   328654  \n",
       "8   326730  \n",
       "9   321497  \n",
       "10  302302  \n",
       "11  279068  \n",
       "12  273105  \n",
       "13  245940  \n",
       "14  241362  \n",
       "15  215351  \n",
       "16  214600  \n",
       "17  212370  \n",
       "18  207545  \n",
       "19  205081  \n",
       "20  200053  \n",
       "21  199401  \n",
       "22  182802  \n",
       "23  166597  \n",
       "24  163622  \n",
       "25  159556  \n",
       "26  154748  \n",
       "27  152467  \n",
       "28  150157  \n",
       "29  144165  \n",
       "30  142632  \n",
       "31  140350  \n",
       "32  139653  \n",
       "33  133914  \n",
       "34  133362  \n",
       "35  131885  \n",
       "36  125250  \n",
       "37  122910  \n",
       "38  115061  \n",
       "39  113745  \n",
       "40  111035  \n",
       "41  108494  \n",
       "42  105302  \n",
       "43  103985  \n",
       "44   96398  \n",
       "45   92743  \n",
       "46   92464  "
      ]
     },
     "execution_count": 71,
     "metadata": {},
     "output_type": "execute_result"
    }
   ],
   "source": [
    "import pandas as pd\n",
    "test_df = pd.DataFrame({'movie': names,\n",
    "                       'year': years,\n",
    "                       'imdb': imdb_ratings,\n",
    "                       'metascore': metascores,\n",
    "                       'votes': votes})\n",
    "print(test_df.info())\n",
    "test_df"
   ]
  },
  {
   "cell_type": "markdown",
   "metadata": {},
   "source": [
    "### Juntando tudo"
   ]
  },
  {
   "cell_type": "code",
   "execution_count": 79,
   "metadata": {},
   "outputs": [
    {
     "name": "stdout",
     "output_type": "stream",
     "text": [
      "Request: 72; Frequency: 0.07349169184280252 requests/s\n"
     ]
    }
   ],
   "source": [
    "from time import time\n",
    "from time import sleep\n",
    "from random import randint\n",
    "\n",
    "from IPython.core.display import clear_output\n",
    "from warnings import warn\n",
    "\n",
    "\n",
    "\n",
    "# Redeclaring the lists to store data in\n",
    "names = []\n",
    "years = []\n",
    "imdb_ratings = []\n",
    "metascores = []\n",
    "votes = []\n",
    "# Preparing the monitoring of the loop\n",
    "start_time = time()\n",
    "requests = 0\n",
    "\n",
    "pages = [str(i) for i in range(1,5)]\n",
    "years_url = [str(i) for i in range(2000,2018)]\n",
    "\n",
    "headers = {\"Accept-Language\": \"en-US, en;q=0.5\"}\n",
    "\n",
    "\n",
    "# For every year in the interval 2000-2018\n",
    "for year_url in years_url:\n",
    "    \n",
    "    # For every page in the interval 1-4\n",
    "    for page in pages:\n",
    "        \n",
    "        # Make a get request\n",
    "        response = get('http://www.imdb.com/search/title?release_date=' + year_url + \n",
    "                       '&sort=num_votes,desc&page=' + page, headers = headers)\n",
    "        # Pause the loop\n",
    "        sleep(randint(8,15))\n",
    "        \n",
    "        # Monitor the requests\n",
    "        requests += 1\n",
    "        elapsed_time = time() - start_time\n",
    "        print('Request: {}; Frequency: {} requests/s'.format(requests, requests/elapsed_time))\n",
    "        clear_output(wait = True)\n",
    "        \n",
    "        # Throw a warning for non-200 status codes\n",
    "        if response.status_code != 200:\n",
    "            warn('Request: {}; Status code: {}'.format(requests, response.status_code))\n",
    "            \n",
    "        # Break the loop if the number od requests is greater than exepected\n",
    "        if requests > 72:\n",
    "            warn('Number of requests was greater than expected.')\n",
    "            break\n",
    "        \n",
    "        # Parse the content of the request with BeautifulSoup\n",
    "        page_html = BeautifulSoup(response.text, 'html.parser')\n",
    "        \n",
    "        # Select all the 50 movie containers from a single page \n",
    "        mv_containers = page_html.find_all('div', class_ = 'lister-item mode-advanced')\n",
    "        \n",
    "        # For every movie of these 50\n",
    "        for container in mv_containers:\n",
    "            # If the movie has a Metascore, then:\n",
    "            if container.find('div', class_ = 'ratings-metascore') is not None:\n",
    "                \n",
    "                # Scrape the name\n",
    "                name = container.h3.a.text\n",
    "                names.append(name)\n",
    "                \n",
    "                # Scrape the year\n",
    "                year = container.h3.find('span', class_ = 'lister-item-year').text\n",
    "                years.append(year)\n",
    "                \n",
    "                # Scrape the IMDB rating\n",
    "                imdb = float(container.strong.text)\n",
    "                imdb_ratings.append(imdb)\n",
    "                \n",
    "                # Scrape the Metascore\n",
    "                m_score = container.find('span', class_ = 'metascore').text\n",
    "                metascores.append(int(m_score))\n",
    "                \n",
    "                # Scrape the number of votes\n",
    "                vote = container.find('span', attrs = {'name': 'nv'})['data-value']\n",
    "                votes.append(int(vote))"
   ]
  },
  {
   "cell_type": "markdown",
   "metadata": {},
   "source": [
    "### Examinando os dados extraídos"
   ]
  },
  {
   "cell_type": "code",
   "execution_count": 82,
   "metadata": {},
   "outputs": [
    {
     "name": "stdout",
     "output_type": "stream",
     "text": [
      "<class 'pandas.core.frame.DataFrame'>\n",
      "RangeIndex: 2947 entries, 0 to 2946\n",
      "Data columns (total 5 columns):\n",
      "movie        2947 non-null object\n",
      "year         2947 non-null object\n",
      "imdb         2947 non-null float64\n",
      "metascore    2947 non-null int64\n",
      "votes        2947 non-null int64\n",
      "dtypes: float64(1), int64(2), object(2)\n",
      "memory usage: 115.2+ KB\n",
      "None\n"
     ]
    }
   ],
   "source": [
    "movie_ratings = pd.DataFrame({'movie': names,\n",
    "                              'year': years,\n",
    "                              'imdb': imdb_ratings,\n",
    "                              'metascore': metascores,\n",
    "                              'votes': votes})\n",
    "\n",
    "print(movie_ratings.info())"
   ]
  },
  {
   "cell_type": "code",
   "execution_count": 83,
   "metadata": {},
   "outputs": [
    {
     "data": {
      "text/html": [
       "<div>\n",
       "<style scoped>\n",
       "    .dataframe tbody tr th:only-of-type {\n",
       "        vertical-align: middle;\n",
       "    }\n",
       "\n",
       "    .dataframe tbody tr th {\n",
       "        vertical-align: top;\n",
       "    }\n",
       "\n",
       "    .dataframe thead th {\n",
       "        text-align: right;\n",
       "    }\n",
       "</style>\n",
       "<table border=\"1\" class=\"dataframe\">\n",
       "  <thead>\n",
       "    <tr style=\"text-align: right;\">\n",
       "      <th></th>\n",
       "      <th>movie</th>\n",
       "      <th>year</th>\n",
       "      <th>imdb</th>\n",
       "      <th>metascore</th>\n",
       "      <th>votes</th>\n",
       "    </tr>\n",
       "  </thead>\n",
       "  <tbody>\n",
       "    <tr>\n",
       "      <th>0</th>\n",
       "      <td>Gladiator</td>\n",
       "      <td>(2000)</td>\n",
       "      <td>8.5</td>\n",
       "      <td>67</td>\n",
       "      <td>1150864</td>\n",
       "    </tr>\n",
       "    <tr>\n",
       "      <th>1</th>\n",
       "      <td>Memento</td>\n",
       "      <td>(2000)</td>\n",
       "      <td>8.5</td>\n",
       "      <td>80</td>\n",
       "      <td>988101</td>\n",
       "    </tr>\n",
       "    <tr>\n",
       "      <th>2</th>\n",
       "      <td>Snatch</td>\n",
       "      <td>(2000)</td>\n",
       "      <td>8.3</td>\n",
       "      <td>55</td>\n",
       "      <td>691194</td>\n",
       "    </tr>\n",
       "    <tr>\n",
       "      <th>3</th>\n",
       "      <td>Requiem for a Dream</td>\n",
       "      <td>(2000)</td>\n",
       "      <td>8.3</td>\n",
       "      <td>68</td>\n",
       "      <td>670832</td>\n",
       "    </tr>\n",
       "    <tr>\n",
       "      <th>4</th>\n",
       "      <td>X-Men</td>\n",
       "      <td>(2000)</td>\n",
       "      <td>7.4</td>\n",
       "      <td>64</td>\n",
       "      <td>515194</td>\n",
       "    </tr>\n",
       "    <tr>\n",
       "      <th>5</th>\n",
       "      <td>Cast Away</td>\n",
       "      <td>(2000)</td>\n",
       "      <td>7.8</td>\n",
       "      <td>73</td>\n",
       "      <td>453270</td>\n",
       "    </tr>\n",
       "    <tr>\n",
       "      <th>6</th>\n",
       "      <td>American Psycho</td>\n",
       "      <td>(2000)</td>\n",
       "      <td>7.6</td>\n",
       "      <td>64</td>\n",
       "      <td>412160</td>\n",
       "    </tr>\n",
       "    <tr>\n",
       "      <th>7</th>\n",
       "      <td>Unbreakable</td>\n",
       "      <td>(2000)</td>\n",
       "      <td>7.3</td>\n",
       "      <td>62</td>\n",
       "      <td>302832</td>\n",
       "    </tr>\n",
       "    <tr>\n",
       "      <th>8</th>\n",
       "      <td>Meet the Parents</td>\n",
       "      <td>(2000)</td>\n",
       "      <td>7.0</td>\n",
       "      <td>73</td>\n",
       "      <td>285585</td>\n",
       "    </tr>\n",
       "    <tr>\n",
       "      <th>9</th>\n",
       "      <td>Mission: Impossible II</td>\n",
       "      <td>(2000)</td>\n",
       "      <td>6.1</td>\n",
       "      <td>59</td>\n",
       "      <td>278110</td>\n",
       "    </tr>\n",
       "  </tbody>\n",
       "</table>\n",
       "</div>"
      ],
      "text/plain": [
       "                    movie    year  imdb  metascore    votes\n",
       "0               Gladiator  (2000)   8.5         67  1150864\n",
       "1                 Memento  (2000)   8.5         80   988101\n",
       "2                  Snatch  (2000)   8.3         55   691194\n",
       "3     Requiem for a Dream  (2000)   8.3         68   670832\n",
       "4                   X-Men  (2000)   7.4         64   515194\n",
       "5               Cast Away  (2000)   7.8         73   453270\n",
       "6         American Psycho  (2000)   7.6         64   412160\n",
       "7             Unbreakable  (2000)   7.3         62   302832\n",
       "8        Meet the Parents  (2000)   7.0         73   285585\n",
       "9  Mission: Impossible II  (2000)   6.1         59   278110"
      ]
     },
     "execution_count": 83,
     "metadata": {},
     "output_type": "execute_result"
    }
   ],
   "source": [
    "movie_ratings.head(10)"
   ]
  },
  {
   "cell_type": "code",
   "execution_count": 90,
   "metadata": {},
   "outputs": [
    {
     "data": {
      "text/html": [
       "<div>\n",
       "<style scoped>\n",
       "    .dataframe tbody tr th:only-of-type {\n",
       "        vertical-align: middle;\n",
       "    }\n",
       "\n",
       "    .dataframe tbody tr th {\n",
       "        vertical-align: top;\n",
       "    }\n",
       "\n",
       "    .dataframe thead th {\n",
       "        text-align: right;\n",
       "    }\n",
       "</style>\n",
       "<table border=\"1\" class=\"dataframe\">\n",
       "  <thead>\n",
       "    <tr style=\"text-align: right;\">\n",
       "      <th></th>\n",
       "      <th>imdb</th>\n",
       "      <th>metascore</th>\n",
       "      <th>votes</th>\n",
       "    </tr>\n",
       "  </thead>\n",
       "  <tbody>\n",
       "    <tr>\n",
       "      <th>count</th>\n",
       "      <td>2947.000000</td>\n",
       "      <td>2947.000000</td>\n",
       "      <td>2.947000e+03</td>\n",
       "    </tr>\n",
       "    <tr>\n",
       "      <th>mean</th>\n",
       "      <td>6.595860</td>\n",
       "      <td>55.910417</td>\n",
       "      <td>1.316236e+05</td>\n",
       "    </tr>\n",
       "    <tr>\n",
       "      <th>std</th>\n",
       "      <td>0.963571</td>\n",
       "      <td>17.942111</td>\n",
       "      <td>1.599001e+05</td>\n",
       "    </tr>\n",
       "    <tr>\n",
       "      <th>min</th>\n",
       "      <td>1.600000</td>\n",
       "      <td>7.000000</td>\n",
       "      <td>9.808000e+03</td>\n",
       "    </tr>\n",
       "    <tr>\n",
       "      <th>25%</th>\n",
       "      <td>6.100000</td>\n",
       "      <td>43.000000</td>\n",
       "      <td>4.055800e+04</td>\n",
       "    </tr>\n",
       "    <tr>\n",
       "      <th>50%</th>\n",
       "      <td>6.700000</td>\n",
       "      <td>56.000000</td>\n",
       "      <td>7.469400e+04</td>\n",
       "    </tr>\n",
       "    <tr>\n",
       "      <th>75%</th>\n",
       "      <td>7.300000</td>\n",
       "      <td>69.000000</td>\n",
       "      <td>1.578650e+05</td>\n",
       "    </tr>\n",
       "    <tr>\n",
       "      <th>max</th>\n",
       "      <td>9.000000</td>\n",
       "      <td>100.000000</td>\n",
       "      <td>1.960822e+06</td>\n",
       "    </tr>\n",
       "  </tbody>\n",
       "</table>\n",
       "</div>"
      ],
      "text/plain": [
       "              imdb    metascore         votes\n",
       "count  2947.000000  2947.000000  2.947000e+03\n",
       "mean      6.595860    55.910417  1.316236e+05\n",
       "std       0.963571    17.942111  1.599001e+05\n",
       "min       1.600000     7.000000  9.808000e+03\n",
       "25%       6.100000    43.000000  4.055800e+04\n",
       "50%       6.700000    56.000000  7.469400e+04\n",
       "75%       7.300000    69.000000  1.578650e+05\n",
       "max       9.000000   100.000000  1.960822e+06"
      ]
     },
     "execution_count": 90,
     "metadata": {},
     "output_type": "execute_result"
    }
   ],
   "source": [
    "movie =  movie_ratings.describe(include=[np.number])\n",
    "movie"
   ]
  },
  {
   "cell_type": "markdown",
   "metadata": {},
   "source": [
    "### Limpando os dados extraídos\n"
   ]
  },
  {
   "cell_type": "code",
   "execution_count": 92,
   "metadata": {},
   "outputs": [
    {
     "data": {
      "text/html": [
       "<div>\n",
       "<style scoped>\n",
       "    .dataframe tbody tr th:only-of-type {\n",
       "        vertical-align: middle;\n",
       "    }\n",
       "\n",
       "    .dataframe tbody tr th {\n",
       "        vertical-align: top;\n",
       "    }\n",
       "\n",
       "    .dataframe thead th {\n",
       "        text-align: right;\n",
       "    }\n",
       "</style>\n",
       "<table border=\"1\" class=\"dataframe\">\n",
       "  <thead>\n",
       "    <tr style=\"text-align: right;\">\n",
       "      <th></th>\n",
       "      <th>movie</th>\n",
       "      <th>year</th>\n",
       "      <th>imdb</th>\n",
       "      <th>metascore</th>\n",
       "      <th>votes</th>\n",
       "    </tr>\n",
       "  </thead>\n",
       "  <tbody>\n",
       "    <tr>\n",
       "      <th>0</th>\n",
       "      <td>Gladiator</td>\n",
       "      <td>(2000)</td>\n",
       "      <td>8.5</td>\n",
       "      <td>67</td>\n",
       "      <td>1150864</td>\n",
       "    </tr>\n",
       "    <tr>\n",
       "      <th>1</th>\n",
       "      <td>Memento</td>\n",
       "      <td>(2000)</td>\n",
       "      <td>8.5</td>\n",
       "      <td>80</td>\n",
       "      <td>988101</td>\n",
       "    </tr>\n",
       "    <tr>\n",
       "      <th>2</th>\n",
       "      <td>Snatch</td>\n",
       "      <td>(2000)</td>\n",
       "      <td>8.3</td>\n",
       "      <td>55</td>\n",
       "      <td>691194</td>\n",
       "    </tr>\n",
       "    <tr>\n",
       "      <th>3</th>\n",
       "      <td>Requiem for a Dream</td>\n",
       "      <td>(2000)</td>\n",
       "      <td>8.3</td>\n",
       "      <td>68</td>\n",
       "      <td>670832</td>\n",
       "    </tr>\n",
       "    <tr>\n",
       "      <th>4</th>\n",
       "      <td>X-Men</td>\n",
       "      <td>(2000)</td>\n",
       "      <td>7.4</td>\n",
       "      <td>64</td>\n",
       "      <td>515194</td>\n",
       "    </tr>\n",
       "    <tr>\n",
       "      <th>5</th>\n",
       "      <td>Cast Away</td>\n",
       "      <td>(2000)</td>\n",
       "      <td>7.8</td>\n",
       "      <td>73</td>\n",
       "      <td>453270</td>\n",
       "    </tr>\n",
       "    <tr>\n",
       "      <th>6</th>\n",
       "      <td>American Psycho</td>\n",
       "      <td>(2000)</td>\n",
       "      <td>7.6</td>\n",
       "      <td>64</td>\n",
       "      <td>412160</td>\n",
       "    </tr>\n",
       "    <tr>\n",
       "      <th>7</th>\n",
       "      <td>Unbreakable</td>\n",
       "      <td>(2000)</td>\n",
       "      <td>7.3</td>\n",
       "      <td>62</td>\n",
       "      <td>302832</td>\n",
       "    </tr>\n",
       "    <tr>\n",
       "      <th>8</th>\n",
       "      <td>Meet the Parents</td>\n",
       "      <td>(2000)</td>\n",
       "      <td>7.0</td>\n",
       "      <td>73</td>\n",
       "      <td>285585</td>\n",
       "    </tr>\n",
       "    <tr>\n",
       "      <th>9</th>\n",
       "      <td>Mission: Impossible II</td>\n",
       "      <td>(2000)</td>\n",
       "      <td>6.1</td>\n",
       "      <td>59</td>\n",
       "      <td>278110</td>\n",
       "    </tr>\n",
       "  </tbody>\n",
       "</table>\n",
       "</div>"
      ],
      "text/plain": [
       "                    movie    year  imdb  metascore    votes\n",
       "0               Gladiator  (2000)   8.5         67  1150864\n",
       "1                 Memento  (2000)   8.5         80   988101\n",
       "2                  Snatch  (2000)   8.3         55   691194\n",
       "3     Requiem for a Dream  (2000)   8.3         68   670832\n",
       "4                   X-Men  (2000)   7.4         64   515194\n",
       "5               Cast Away  (2000)   7.8         73   453270\n",
       "6         American Psycho  (2000)   7.6         64   412160\n",
       "7             Unbreakable  (2000)   7.3         62   302832\n",
       "8        Meet the Parents  (2000)   7.0         73   285585\n",
       "9  Mission: Impossible II  (2000)   6.1         59   278110"
      ]
     },
     "execution_count": 92,
     "metadata": {},
     "output_type": "execute_result"
    }
   ],
   "source": [
    "movie_ratings = movie_ratings[['movie', 'year', 'imdb', 'metascore', 'votes']]\n",
    "movie_ratings.head(10)"
   ]
  },
  {
   "cell_type": "code",
   "execution_count": 93,
   "metadata": {},
   "outputs": [
    {
     "data": {
      "text/plain": [
       "array(['(2000)', '(I) (2000)', '(2001)', '(I) (2001)', '(2002)',\n",
       "       '(I) (2002)', '(2003)', '(I) (2003)', '(2004)', '(I) (2004)',\n",
       "       '(2005)', '(I) (2005)', '(2006)', '(I) (2006)', '(2007)',\n",
       "       '(I) (2007)', '(2008)', '(I) (2008)', '(2009)', '(I) (2009)',\n",
       "       '(II) (2009)', '(2010)', '(I) (2010)', '(II) (2010)', '(2011)',\n",
       "       '(I) (2011)', '(IV) (2011)', '(2012)', '(I) (2012)', '(II) (2012)',\n",
       "       '(2013)', '(I) (2013)', '(II) (2013)', '(2014)', '(I) (2014)',\n",
       "       '(II) (2014)', '(III) (2014)', '(2015)', '(I) (2015)',\n",
       "       '(II) (2015)', '(VI) (2015)', '(III) (2015)', '(2016)',\n",
       "       '(II) (2016)', '(I) (2016)', '(IX) (2016)', '(V) (2016)', '(2017)',\n",
       "       '(I) (2017)', '(III) (2017)', '(II) (2017)'], dtype=object)"
      ]
     },
     "execution_count": 93,
     "metadata": {},
     "output_type": "execute_result"
    }
   ],
   "source": [
    "movie_ratings['year'].unique()"
   ]
  },
  {
   "cell_type": "code",
   "execution_count": 94,
   "metadata": {},
   "outputs": [],
   "source": [
    "movie_ratings.loc[:, 'year'] = movie_ratings['year'].str[-5:-1].astype(int)"
   ]
  },
  {
   "cell_type": "code",
   "execution_count": 95,
   "metadata": {},
   "outputs": [
    {
     "data": {
      "text/plain": [
       "array([2000, 2001, 2002, 2003, 2004, 2005, 2006, 2007, 2008, 2009, 2010,\n",
       "       2011, 2012, 2013, 2014, 2015, 2016, 2017])"
      ]
     },
     "execution_count": 95,
     "metadata": {},
     "output_type": "execute_result"
    }
   ],
   "source": [
    "movie_ratings['year'].unique()"
   ]
  },
  {
   "cell_type": "code",
   "execution_count": 160,
   "metadata": {},
   "outputs": [
    {
     "data": {
      "text/html": [
       "<div>\n",
       "<style scoped>\n",
       "    .dataframe tbody tr th:only-of-type {\n",
       "        vertical-align: middle;\n",
       "    }\n",
       "\n",
       "    .dataframe tbody tr th {\n",
       "        vertical-align: top;\n",
       "    }\n",
       "\n",
       "    .dataframe thead th {\n",
       "        text-align: right;\n",
       "    }\n",
       "</style>\n",
       "<table border=\"1\" class=\"dataframe\">\n",
       "  <thead>\n",
       "    <tr style=\"text-align: right;\">\n",
       "      <th></th>\n",
       "      <th>imdb</th>\n",
       "      <th>metascore</th>\n",
       "    </tr>\n",
       "  </thead>\n",
       "  <tbody>\n",
       "    <tr>\n",
       "      <th>min</th>\n",
       "      <td>1.6</td>\n",
       "      <td>7.0</td>\n",
       "    </tr>\n",
       "    <tr>\n",
       "      <th>max</th>\n",
       "      <td>9.0</td>\n",
       "      <td>100.0</td>\n",
       "    </tr>\n",
       "  </tbody>\n",
       "</table>\n",
       "</div>"
      ],
      "text/plain": [
       "     imdb  metascore\n",
       "min   1.6        7.0\n",
       "max   9.0      100.0"
      ]
     },
     "execution_count": 160,
     "metadata": {},
     "output_type": "execute_result"
    }
   ],
   "source": [
    "movie_ratings.describe().loc[['min', 'max'], ['imdb', 'metascore']]"
   ]
  },
  {
   "cell_type": "code",
   "execution_count": 155,
   "metadata": {},
   "outputs": [
    {
     "data": {
      "text/html": [
       "<div>\n",
       "<style scoped>\n",
       "    .dataframe tbody tr th:only-of-type {\n",
       "        vertical-align: middle;\n",
       "    }\n",
       "\n",
       "    .dataframe tbody tr th {\n",
       "        vertical-align: top;\n",
       "    }\n",
       "\n",
       "    .dataframe thead th {\n",
       "        text-align: right;\n",
       "    }\n",
       "</style>\n",
       "<table border=\"1\" class=\"dataframe\">\n",
       "  <thead>\n",
       "    <tr style=\"text-align: right;\">\n",
       "      <th></th>\n",
       "      <th>movie</th>\n",
       "      <th>year</th>\n",
       "      <th>imdb</th>\n",
       "      <th>metascore</th>\n",
       "      <th>votes</th>\n",
       "      <th>n_imdb</th>\n",
       "    </tr>\n",
       "  </thead>\n",
       "  <tbody>\n",
       "    <tr>\n",
       "      <th>0</th>\n",
       "      <td>Gladiator</td>\n",
       "      <td>2000</td>\n",
       "      <td>8.5</td>\n",
       "      <td>67</td>\n",
       "      <td>1150864</td>\n",
       "      <td>80</td>\n",
       "    </tr>\n",
       "    <tr>\n",
       "      <th>1</th>\n",
       "      <td>Memento</td>\n",
       "      <td>2000</td>\n",
       "      <td>8.5</td>\n",
       "      <td>80</td>\n",
       "      <td>988101</td>\n",
       "      <td>80</td>\n",
       "    </tr>\n",
       "    <tr>\n",
       "      <th>2</th>\n",
       "      <td>Snatch</td>\n",
       "      <td>2000</td>\n",
       "      <td>8.3</td>\n",
       "      <td>55</td>\n",
       "      <td>691194</td>\n",
       "      <td>80</td>\n",
       "    </tr>\n",
       "    <tr>\n",
       "      <th>3</th>\n",
       "      <td>Requiem for a Dream</td>\n",
       "      <td>2000</td>\n",
       "      <td>8.3</td>\n",
       "      <td>68</td>\n",
       "      <td>670832</td>\n",
       "      <td>80</td>\n",
       "    </tr>\n",
       "    <tr>\n",
       "      <th>4</th>\n",
       "      <td>X-Men</td>\n",
       "      <td>2000</td>\n",
       "      <td>7.4</td>\n",
       "      <td>64</td>\n",
       "      <td>515194</td>\n",
       "      <td>70</td>\n",
       "    </tr>\n",
       "    <tr>\n",
       "      <th>5</th>\n",
       "      <td>Cast Away</td>\n",
       "      <td>2000</td>\n",
       "      <td>7.8</td>\n",
       "      <td>73</td>\n",
       "      <td>453270</td>\n",
       "      <td>70</td>\n",
       "    </tr>\n",
       "    <tr>\n",
       "      <th>6</th>\n",
       "      <td>American Psycho</td>\n",
       "      <td>2000</td>\n",
       "      <td>7.6</td>\n",
       "      <td>64</td>\n",
       "      <td>412160</td>\n",
       "      <td>70</td>\n",
       "    </tr>\n",
       "    <tr>\n",
       "      <th>7</th>\n",
       "      <td>Unbreakable</td>\n",
       "      <td>2000</td>\n",
       "      <td>7.3</td>\n",
       "      <td>62</td>\n",
       "      <td>302832</td>\n",
       "      <td>70</td>\n",
       "    </tr>\n",
       "    <tr>\n",
       "      <th>8</th>\n",
       "      <td>Meet the Parents</td>\n",
       "      <td>2000</td>\n",
       "      <td>7.0</td>\n",
       "      <td>73</td>\n",
       "      <td>285585</td>\n",
       "      <td>70</td>\n",
       "    </tr>\n",
       "    <tr>\n",
       "      <th>9</th>\n",
       "      <td>Mission: Impossible II</td>\n",
       "      <td>2000</td>\n",
       "      <td>6.1</td>\n",
       "      <td>59</td>\n",
       "      <td>278110</td>\n",
       "      <td>60</td>\n",
       "    </tr>\n",
       "  </tbody>\n",
       "</table>\n",
       "</div>"
      ],
      "text/plain": [
       "                    movie  year  imdb  metascore    votes  n_imdb\n",
       "0               Gladiator  2000   8.5         67  1150864      80\n",
       "1                 Memento  2000   8.5         80   988101      80\n",
       "2                  Snatch  2000   8.3         55   691194      80\n",
       "3     Requiem for a Dream  2000   8.3         68   670832      80\n",
       "4                   X-Men  2000   7.4         64   515194      70\n",
       "5               Cast Away  2000   7.8         73   453270      70\n",
       "6         American Psycho  2000   7.6         64   412160      70\n",
       "7             Unbreakable  2000   7.3         62   302832      70\n",
       "8        Meet the Parents  2000   7.0         73   285585      70\n",
       "9  Mission: Impossible II  2000   6.1         59   278110      60"
      ]
     },
     "execution_count": 155,
     "metadata": {},
     "output_type": "execute_result"
    }
   ],
   "source": [
    "movie_ratings['n_imdb'] = movie_ratings['imdb'].astype(int) * 10\n",
    "movie_ratings.head(10)"
   ]
  },
  {
   "cell_type": "code",
   "execution_count": 161,
   "metadata": {},
   "outputs": [],
   "source": [
    "movie_ratings.to_csv('movie_ratings.csv')"
   ]
  },
  {
   "cell_type": "markdown",
   "metadata": {},
   "source": [
    "## Plotando e analizando as distribuições"
   ]
  },
  {
   "cell_type": "code",
   "execution_count": 156,
   "metadata": {},
   "outputs": [],
   "source": [
    "import matplotlib.pyplot as plt\n",
    "# %matplotlib inline"
   ]
  },
  {
   "cell_type": "code",
   "execution_count": 157,
   "metadata": {},
   "outputs": [
    {
     "data": {
      "image/png": "[encoded data removed]",
      "text/plain": [
       "<Figure size 1152x288 with 3 Axes>"
      ]
     },
     "metadata": {},
     "output_type": "display_data"
    }
   ],
   "source": [
    "fig, axes = plt.subplots(nrows = 1, ncols = 3, figsize = (16,4))\n",
    "ax1, ax2, ax3 = fig.axes\n",
    "\n",
    "ax1.hist(movie_ratings['imdb'], bins=10, range=(0,10))\n",
    "ax1.set_title('IMDB rating')\n",
    "\n",
    "ax2.hist(movie_ratings['metascore'], bins = 10, range = (0,100))\n",
    "ax2.set_title('Metascore')\n",
    "\n",
    "ax3.hist(movie_ratings['n_imdb'], bins = 10, range = (0,100), histtype = 'step')\n",
    "ax3.hist(movie_ratings['metascore'], bins = 10, range = (0,100), histtype = 'step')\n",
    "ax3.legend(loc = 'upper left')\n",
    "ax3.set_title('The Two Normalized Distributions')\n",
    "\n",
    "for ax in fig.axes:\n",
    "    ax.spines['top'].set_visible(False)\n",
    "    ax.spines['right'].set_visible(False)\n",
    "plt.show()\n"
   ]
  },
  {
   "cell_type": "code",
   "execution_count": 159,
   "metadata": {},
   "outputs": [
    {
     "data": {
      "image/png": "[encoded data removed]",
      "text/plain": [
       "<Figure size 432x288 with 1 Axes>"
      ]
     },
     "metadata": {},
     "output_type": "display_data"
    }
   ],
   "source": [
    "x = movie_ratings['imdb']\n",
    "ax = sns.distplot(x, hist=True, kde=True, rug=False, color='m', bins=25, hist_kws={'edgecolor':'black'})\n",
    "plt.show()"
   ]
  },
  {
   "cell_type": "code",
   "execution_count": 154,
   "metadata": {},
   "outputs": [
    {
     "name": "stderr",
     "output_type": "stream",
     "text": [
      "/home/carlos/workspace/park/lib/python3.6/site-packages/scipy/stats/stats.py:1713: FutureWarning: Using a non-tuple sequence for multidimensional indexing is deprecated; use `arr[tuple(seq)]` instead of `arr[seq]`. In the future this will be interpreted as an array index, `arr[np.array(seq)]`, which will result either in an error or a different result.\n",
      "  return np.add.reduce(sorted[indexer] * weights, axis=axis) / sumval\n"
     ]
    },
    {
     "data": {
      "text/plain": [
       "<matplotlib.legend.Legend at 0x7f12c8500fd0>"
      ]
     },
     "execution_count": 154,
     "metadata": {},
     "output_type": "execute_result"
    },
    {
     "data": {
      "image/png": "[encoded data removed]",
      "text/plain": [
       "<Figure size 432x288 with 1 Axes>"
      ]
     },
     "metadata": {},
     "output_type": "display_data"
    }
   ],
   "source": [
    "imdb_fuko = movie_ratings['n_imdb']\n",
    "mscore_fuko = movie_ratings['metascore']\n",
    "\n",
    "sns.distplot(imdb_fuko, hist=True, kde=True, rug=False, hist_kws={'edgecolor':'black'}, label='IMDB')\n",
    "sns.distplot(mscore_fuko, hist=True, kde=True, rug=False, hist_kws={'edgecolor':'black'}, label='Metascore')\n",
    "plt.legend()"
   ]
  },
  {
   "cell_type": "code",
   "execution_count": null,
   "metadata": {},
   "outputs": [],
   "source": []
  }
 ],
 "metadata": {
  "kernelspec": {
   "display_name": "Python 3",
   "language": "python",
   "name": "python3"
  },
  "language_info": {
   "codemirror_mode": {
    "name": "ipython",
    "version": 3
   },
   "file_extension": ".py",
   "mimetype": "text/x-python",
   "name": "python",
   "nbconvert_exporter": "python",
   "pygments_lexer": "ipython3",
   "version": "3.6.5"
  }
 },
 "nbformat": 4,
 "nbformat_minor": 2
}
